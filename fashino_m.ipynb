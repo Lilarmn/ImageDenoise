{
 "cells": [
  {
   "cell_type": "code",
   "execution_count": 1,
   "id": "02555284",
   "metadata": {},
   "outputs": [],
   "source": [
    "import tensorflow as tf\n",
    "from tensorflow.keras.losses import categorical_crossentropy\n",
    "from tensorflow.keras.datasets import fashion_mnist\n",
    "from tensorflow.keras.models import Sequential\n",
    "from tensorflow.keras.layers import Dense, Conv2D, Flatten, BatchNormalization, Dropout\n",
    "from tensorflow.keras import regularizers\n",
    "from tensorflow.keras.utils import to_categorical\n",
    "import numpy as np\n",
    "import matplotlib.pyplot as plt"
   ]
  },
  {
   "cell_type": "code",
   "execution_count": 49,
   "id": "d4b3b203",
   "metadata": {},
   "outputs": [],
   "source": [
    "(x_train, y_train), (x_test, y_test) = fashion_mnist.load_data()\n",
    "\n",
    "x_train = x_train / 255.0\n",
    "x_test = x_test / 255.0"
   ]
  },
  {
   "cell_type": "code",
   "execution_count": 50,
   "id": "f569897c",
   "metadata": {},
   "outputs": [
    {
     "data": {
      "text/plain": [
       "(60000, 28, 28)"
      ]
     },
     "execution_count": 50,
     "metadata": {},
     "output_type": "execute_result"
    }
   ],
   "source": [
    "x_train.shape"
   ]
  },
  {
   "cell_type": "code",
   "execution_count": 51,
   "id": "398ce79a",
   "metadata": {},
   "outputs": [
    {
     "data": {
      "text/plain": [
       "<matplotlib.image.AxesImage at 0x1aaeb33c5b0>"
      ]
     },
     "execution_count": 51,
     "metadata": {},
     "output_type": "execute_result"
    },
    {
     "data": {
      "image/png": "[encoded data removed]",
      "text/plain": [
       "<Figure size 432x288 with 1 Axes>"
      ]
     },
     "metadata": {
      "needs_background": "light"
     },
     "output_type": "display_data"
    }
   ],
   "source": [
    "plt.imshow(x_train[0],cmap= plt.cm.binary)"
   ]
  },
  {
   "cell_type": "code",
   "execution_count": 52,
   "id": "be874e6a",
   "metadata": {},
   "outputs": [],
   "source": [
    "y_train = to_categorical(y_train , num_classes=10)\n",
    "y_test = to_categorical(y_test , num_classes=10)"
   ]
  },
  {
   "cell_type": "code",
   "execution_count": 54,
   "id": "273a4e57",
   "metadata": {},
   "outputs": [],
   "source": [
    "x_train = x_train.reshape(60000,784)\n",
    "x_test = x_test.reshape(10000,784)"
   ]
  },
  {
   "cell_type": "code",
   "execution_count": 55,
   "id": "8fa89308",
   "metadata": {},
   "outputs": [
    {
     "data": {
      "text/plain": [
       "(60000, 10)"
      ]
     },
     "execution_count": 55,
     "metadata": {},
     "output_type": "execute_result"
    }
   ],
   "source": [
    "y_train.shape"
   ]
  },
  {
   "cell_type": "code",
   "execution_count": 70,
   "id": "8961e2d2",
   "metadata": {},
   "outputs": [
    {
     "name": "stdout",
     "output_type": "stream",
     "text": [
      "Epoch 1/100\n",
      "469/469 [==============================] - 4s 8ms/step - loss: 2.0633 - accuracy: 0.7337 - val_loss: 0.8876 - val_accuracy: 0.8038\n",
      "Epoch 2/100\n",
      "469/469 [==============================] - 3s 6ms/step - loss: 0.7558 - accuracy: 0.8144 - val_loss: 0.6030 - val_accuracy: 0.8343\n",
      "Epoch 3/100\n",
      "469/469 [==============================] - 3s 6ms/step - loss: 0.6388 - accuracy: 0.8254 - val_loss: 0.5357 - val_accuracy: 0.8461\n",
      "Epoch 4/100\n",
      "469/469 [==============================] - 3s 7ms/step - loss: 0.5976 - accuracy: 0.8321 - val_loss: 0.5117 - val_accuracy: 0.8558\n",
      "Epoch 5/100\n",
      "469/469 [==============================] - 3s 6ms/step - loss: 0.5731 - accuracy: 0.8379 - val_loss: 0.5273 - val_accuracy: 0.8437\n",
      "Epoch 6/100\n",
      "469/469 [==============================] - 3s 6ms/step - loss: 0.5559 - accuracy: 0.8430 - val_loss: 0.4897 - val_accuracy: 0.8625\n",
      "Epoch 7/100\n",
      "469/469 [==============================] - 3s 6ms/step - loss: 0.5448 - accuracy: 0.8448 - val_loss: 0.4874 - val_accuracy: 0.8577\n",
      "Epoch 8/100\n",
      "469/469 [==============================] - 3s 6ms/step - loss: 0.5376 - accuracy: 0.8457 - val_loss: 0.4808 - val_accuracy: 0.8608\n",
      "Epoch 9/100\n",
      "469/469 [==============================] - 3s 6ms/step - loss: 0.5318 - accuracy: 0.8485 - val_loss: 0.4888 - val_accuracy: 0.8613\n",
      "Epoch 10/100\n",
      "469/469 [==============================] - 3s 6ms/step - loss: 0.5267 - accuracy: 0.8480 - val_loss: 0.4830 - val_accuracy: 0.8555\n",
      "Epoch 11/100\n",
      "469/469 [==============================] - 3s 6ms/step - loss: 0.5181 - accuracy: 0.8514 - val_loss: 0.4697 - val_accuracy: 0.8614\n",
      "Epoch 12/100\n",
      "469/469 [==============================] - 3s 7ms/step - loss: 0.5118 - accuracy: 0.8532 - val_loss: 0.4581 - val_accuracy: 0.8661\n",
      "Epoch 13/100\n",
      "469/469 [==============================] - 3s 7ms/step - loss: 0.5119 - accuracy: 0.8536 - val_loss: 0.4694 - val_accuracy: 0.8646\n",
      "Epoch 14/100\n",
      "469/469 [==============================] - 3s 7ms/step - loss: 0.5110 - accuracy: 0.8537 - val_loss: 0.5037 - val_accuracy: 0.8579\n",
      "Epoch 15/100\n",
      "469/469 [==============================] - 3s 6ms/step - loss: 0.5015 - accuracy: 0.8558 - val_loss: 0.4541 - val_accuracy: 0.8654\n",
      "Epoch 16/100\n",
      "469/469 [==============================] - 3s 7ms/step - loss: 0.4922 - accuracy: 0.8579 - val_loss: 0.4618 - val_accuracy: 0.8673\n",
      "Epoch 17/100\n",
      "469/469 [==============================] - 3s 7ms/step - loss: 0.4923 - accuracy: 0.8587 - val_loss: 0.4509 - val_accuracy: 0.8644\n",
      "Epoch 18/100\n",
      "469/469 [==============================] - 3s 7ms/step - loss: 0.4920 - accuracy: 0.8588 - val_loss: 0.4606 - val_accuracy: 0.8683\n",
      "Epoch 19/100\n",
      "469/469 [==============================] - 3s 7ms/step - loss: 0.4871 - accuracy: 0.8624 - val_loss: 0.4518 - val_accuracy: 0.8698\n",
      "Epoch 20/100\n",
      "469/469 [==============================] - 3s 7ms/step - loss: 0.4861 - accuracy: 0.8595 - val_loss: 0.4414 - val_accuracy: 0.8692\n",
      "Epoch 21/100\n",
      "469/469 [==============================] - 3s 7ms/step - loss: 0.4826 - accuracy: 0.8630 - val_loss: 0.4566 - val_accuracy: 0.8677\n",
      "Epoch 22/100\n",
      "469/469 [==============================] - 3s 7ms/step - loss: 0.4769 - accuracy: 0.8645 - val_loss: 0.4403 - val_accuracy: 0.8724\n",
      "Epoch 23/100\n",
      "469/469 [==============================] - 3s 7ms/step - loss: 0.4735 - accuracy: 0.8638 - val_loss: 0.4453 - val_accuracy: 0.8718\n",
      "Epoch 24/100\n",
      "469/469 [==============================] - 3s 7ms/step - loss: 0.4711 - accuracy: 0.8662 - val_loss: 0.4522 - val_accuracy: 0.8694\n",
      "Epoch 25/100\n",
      "469/469 [==============================] - 3s 7ms/step - loss: 0.4681 - accuracy: 0.8651 - val_loss: 0.4356 - val_accuracy: 0.8736\n",
      "Epoch 26/100\n",
      "469/469 [==============================] - 3s 7ms/step - loss: 0.4659 - accuracy: 0.8675 - val_loss: 0.4388 - val_accuracy: 0.8726\n",
      "Epoch 27/100\n",
      "469/469 [==============================] - 3s 7ms/step - loss: 0.4658 - accuracy: 0.8662 - val_loss: 0.4356 - val_accuracy: 0.8752\n",
      "Epoch 28/100\n",
      "469/469 [==============================] - 3s 7ms/step - loss: 0.4620 - accuracy: 0.8676 - val_loss: 0.4645 - val_accuracy: 0.8626\n",
      "Epoch 29/100\n",
      "469/469 [==============================] - 3s 7ms/step - loss: 0.4606 - accuracy: 0.8695 - val_loss: 0.4427 - val_accuracy: 0.8743\n",
      "Epoch 30/100\n",
      "469/469 [==============================] - 3s 7ms/step - loss: 0.4555 - accuracy: 0.8681 - val_loss: 0.4384 - val_accuracy: 0.8756\n",
      "Epoch 31/100\n",
      "469/469 [==============================] - 3s 7ms/step - loss: 0.4532 - accuracy: 0.8697 - val_loss: 0.4315 - val_accuracy: 0.8750\n",
      "Epoch 32/100\n",
      "469/469 [==============================] - 3s 7ms/step - loss: 0.4570 - accuracy: 0.8690 - val_loss: 0.4445 - val_accuracy: 0.8661\n",
      "Epoch 33/100\n",
      "469/469 [==============================] - 3s 7ms/step - loss: 0.4547 - accuracy: 0.8700 - val_loss: 0.4640 - val_accuracy: 0.8647\n",
      "Epoch 34/100\n",
      "469/469 [==============================] - 3s 7ms/step - loss: 0.4515 - accuracy: 0.8712 - val_loss: 0.4286 - val_accuracy: 0.8730\n",
      "Epoch 35/100\n",
      "469/469 [==============================] - 3s 7ms/step - loss: 0.4516 - accuracy: 0.8718 - val_loss: 0.4303 - val_accuracy: 0.8743\n",
      "Epoch 36/100\n",
      "469/469 [==============================] - 3s 6ms/step - loss: 0.4492 - accuracy: 0.8714 - val_loss: 0.4298 - val_accuracy: 0.8773\n",
      "Epoch 37/100\n",
      "469/469 [==============================] - 3s 6ms/step - loss: 0.4466 - accuracy: 0.8716 - val_loss: 0.4381 - val_accuracy: 0.8727\n",
      "Epoch 38/100\n",
      "469/469 [==============================] - 3s 7ms/step - loss: 0.4461 - accuracy: 0.8719 - val_loss: 0.4288 - val_accuracy: 0.8771\n",
      "Epoch 39/100\n",
      "469/469 [==============================] - 3s 7ms/step - loss: 0.4435 - accuracy: 0.8727 - val_loss: 0.4404 - val_accuracy: 0.8749\n",
      "Epoch 40/100\n",
      "469/469 [==============================] - 3s 6ms/step - loss: 0.4409 - accuracy: 0.8737 - val_loss: 0.4223 - val_accuracy: 0.8772\n",
      "Epoch 41/100\n",
      "469/469 [==============================] - 3s 6ms/step - loss: 0.4486 - accuracy: 0.8715 - val_loss: 0.4657 - val_accuracy: 0.8629\n",
      "Epoch 42/100\n",
      "469/469 [==============================] - 3s 6ms/step - loss: 0.4447 - accuracy: 0.8734 - val_loss: 0.4320 - val_accuracy: 0.8744\n",
      "Epoch 43/100\n",
      "469/469 [==============================] - 3s 7ms/step - loss: 0.4404 - accuracy: 0.8733 - val_loss: 0.4292 - val_accuracy: 0.8735\n",
      "Epoch 44/100\n",
      "469/469 [==============================] - 3s 6ms/step - loss: 0.4333 - accuracy: 0.8750 - val_loss: 0.4354 - val_accuracy: 0.8725\n",
      "Epoch 45/100\n",
      "469/469 [==============================] - 3s 6ms/step - loss: 0.4355 - accuracy: 0.8757 - val_loss: 0.4332 - val_accuracy: 0.8764\n",
      "Epoch 46/100\n",
      "469/469 [==============================] - 3s 6ms/step - loss: 0.4346 - accuracy: 0.8743 - val_loss: 0.4175 - val_accuracy: 0.8785\n",
      "Epoch 47/100\n",
      "469/469 [==============================] - 3s 7ms/step - loss: 0.4355 - accuracy: 0.8751 - val_loss: 0.4200 - val_accuracy: 0.8783\n",
      "Epoch 48/100\n",
      "469/469 [==============================] - 3s 7ms/step - loss: 0.4293 - accuracy: 0.8768 - val_loss: 0.4329 - val_accuracy: 0.8780\n",
      "Epoch 49/100\n",
      "469/469 [==============================] - 3s 7ms/step - loss: 0.4323 - accuracy: 0.8778 - val_loss: 0.4320 - val_accuracy: 0.8756\n",
      "Epoch 50/100\n",
      "469/469 [==============================] - 3s 7ms/step - loss: 0.4309 - accuracy: 0.8773 - val_loss: 0.4207 - val_accuracy: 0.8779\n",
      "Epoch 51/100\n",
      "469/469 [==============================] - 3s 7ms/step - loss: 0.4294 - accuracy: 0.8769 - val_loss: 0.4239 - val_accuracy: 0.8784\n",
      "Epoch 52/100\n",
      "469/469 [==============================] - 3s 7ms/step - loss: 0.4255 - accuracy: 0.8785 - val_loss: 0.4274 - val_accuracy: 0.8800\n",
      "Epoch 53/100\n",
      "469/469 [==============================] - 3s 7ms/step - loss: 0.4185 - accuracy: 0.8799 - val_loss: 0.4234 - val_accuracy: 0.8780\n",
      "Epoch 54/100\n",
      "469/469 [==============================] - 3s 7ms/step - loss: 0.4203 - accuracy: 0.8792 - val_loss: 0.4239 - val_accuracy: 0.8787\n",
      "Epoch 55/100\n",
      "469/469 [==============================] - 3s 7ms/step - loss: 0.4159 - accuracy: 0.8811 - val_loss: 0.4423 - val_accuracy: 0.8764\n",
      "Epoch 56/100\n",
      "469/469 [==============================] - 3s 7ms/step - loss: 0.4191 - accuracy: 0.8798 - val_loss: 0.4102 - val_accuracy: 0.8800\n",
      "Epoch 57/100\n",
      "469/469 [==============================] - 3s 6ms/step - loss: 0.4154 - accuracy: 0.8814 - val_loss: 0.4144 - val_accuracy: 0.8815\n"
     ]
    },
    {
     "name": "stdout",
     "output_type": "stream",
     "text": [
      "Epoch 58/100\n",
      "469/469 [==============================] - 3s 6ms/step - loss: 0.4179 - accuracy: 0.8829 - val_loss: 0.4107 - val_accuracy: 0.8799\n",
      "Epoch 59/100\n",
      "469/469 [==============================] - 3s 6ms/step - loss: 0.4137 - accuracy: 0.8804 - val_loss: 0.4159 - val_accuracy: 0.8787\n",
      "Epoch 60/100\n",
      "469/469 [==============================] - 3s 6ms/step - loss: 0.4152 - accuracy: 0.8820 - val_loss: 0.4164 - val_accuracy: 0.8804\n",
      "Epoch 61/100\n",
      "469/469 [==============================] - 3s 6ms/step - loss: 0.4144 - accuracy: 0.8820 - val_loss: 0.4094 - val_accuracy: 0.8793\n",
      "Epoch 62/100\n",
      "469/469 [==============================] - 3s 6ms/step - loss: 0.4188 - accuracy: 0.8793 - val_loss: 0.4300 - val_accuracy: 0.8750\n",
      "Epoch 63/100\n",
      "469/469 [==============================] - 3s 6ms/step - loss: 0.4161 - accuracy: 0.8810 - val_loss: 0.4335 - val_accuracy: 0.8759\n",
      "Epoch 64/100\n",
      "469/469 [==============================] - 3s 6ms/step - loss: 0.4169 - accuracy: 0.8813 - val_loss: 0.4212 - val_accuracy: 0.8774\n",
      "Epoch 65/100\n",
      "469/469 [==============================] - 3s 6ms/step - loss: 0.4158 - accuracy: 0.8816 - val_loss: 0.4317 - val_accuracy: 0.8776\n",
      "Epoch 66/100\n",
      "469/469 [==============================] - 3s 6ms/step - loss: 0.4110 - accuracy: 0.8835 - val_loss: 0.4242 - val_accuracy: 0.8776\n",
      "Epoch 67/100\n",
      "469/469 [==============================] - 3s 7ms/step - loss: 0.4094 - accuracy: 0.8835 - val_loss: 0.4148 - val_accuracy: 0.8826\n",
      "Epoch 68/100\n",
      "469/469 [==============================] - 3s 6ms/step - loss: 0.4077 - accuracy: 0.8836 - val_loss: 0.4191 - val_accuracy: 0.8813\n",
      "Epoch 69/100\n",
      "469/469 [==============================] - 3s 6ms/step - loss: 0.4086 - accuracy: 0.8831 - val_loss: 0.4203 - val_accuracy: 0.8837\n",
      "Epoch 70/100\n",
      "469/469 [==============================] - 3s 6ms/step - loss: 0.4065 - accuracy: 0.8841 - val_loss: 0.4183 - val_accuracy: 0.8783\n",
      "Epoch 71/100\n",
      "469/469 [==============================] - 3s 6ms/step - loss: 0.4079 - accuracy: 0.8854 - val_loss: 0.4164 - val_accuracy: 0.8833\n",
      "Epoch 72/100\n",
      "469/469 [==============================] - 3s 6ms/step - loss: 0.4022 - accuracy: 0.8854 - val_loss: 0.4153 - val_accuracy: 0.8840\n",
      "Epoch 73/100\n",
      "469/469 [==============================] - 3s 6ms/step - loss: 0.4041 - accuracy: 0.8842 - val_loss: 0.4208 - val_accuracy: 0.8804\n",
      "Epoch 74/100\n",
      "469/469 [==============================] - 3s 6ms/step - loss: 0.4074 - accuracy: 0.8862 - val_loss: 0.4257 - val_accuracy: 0.8809\n",
      "Epoch 75/100\n",
      "469/469 [==============================] - 3s 7ms/step - loss: 0.4083 - accuracy: 0.8846 - val_loss: 0.4252 - val_accuracy: 0.8781\n",
      "Epoch 76/100\n",
      "469/469 [==============================] - 3s 7ms/step - loss: 0.4027 - accuracy: 0.8853 - val_loss: 0.4341 - val_accuracy: 0.8783\n",
      "Epoch 77/100\n",
      "469/469 [==============================] - 3s 7ms/step - loss: 0.4058 - accuracy: 0.8845 - val_loss: 0.4120 - val_accuracy: 0.8821\n",
      "Epoch 78/100\n",
      "469/469 [==============================] - 3s 6ms/step - loss: 0.4117 - accuracy: 0.8838 - val_loss: 0.4237 - val_accuracy: 0.8827\n",
      "Epoch 79/100\n",
      "469/469 [==============================] - 3s 6ms/step - loss: 0.4032 - accuracy: 0.8853 - val_loss: 0.4135 - val_accuracy: 0.8832\n",
      "Epoch 80/100\n",
      "469/469 [==============================] - 3s 7ms/step - loss: 0.4042 - accuracy: 0.8853 - val_loss: 0.4237 - val_accuracy: 0.8798\n",
      "Epoch 81/100\n",
      "469/469 [==============================] - 3s 7ms/step - loss: 0.4043 - accuracy: 0.8860 - val_loss: 0.4280 - val_accuracy: 0.8750\n",
      "Epoch 82/100\n",
      "469/469 [==============================] - 3s 6ms/step - loss: 0.4068 - accuracy: 0.8837 - val_loss: 0.4239 - val_accuracy: 0.8783\n",
      "Epoch 83/100\n",
      "469/469 [==============================] - 3s 6ms/step - loss: 0.4026 - accuracy: 0.8862 - val_loss: 0.4127 - val_accuracy: 0.8820\n",
      "Epoch 84/100\n",
      "469/469 [==============================] - 3s 6ms/step - loss: 0.3996 - accuracy: 0.8868 - val_loss: 0.4216 - val_accuracy: 0.8824\n",
      "Epoch 85/100\n",
      "469/469 [==============================] - 3s 6ms/step - loss: 0.4026 - accuracy: 0.8860 - val_loss: 0.4296 - val_accuracy: 0.8769\n",
      "Epoch 86/100\n",
      "469/469 [==============================] - 3s 6ms/step - loss: 0.3959 - accuracy: 0.8895 - val_loss: 0.4168 - val_accuracy: 0.8806\n",
      "Epoch 87/100\n",
      "469/469 [==============================] - 3s 6ms/step - loss: 0.4022 - accuracy: 0.8864 - val_loss: 0.4152 - val_accuracy: 0.8805\n",
      "Epoch 88/100\n",
      "469/469 [==============================] - 3s 7ms/step - loss: 0.3964 - accuracy: 0.8862 - val_loss: 0.4270 - val_accuracy: 0.8790\n",
      "Epoch 89/100\n",
      "469/469 [==============================] - 3s 6ms/step - loss: 0.3992 - accuracy: 0.8873 - val_loss: 0.4155 - val_accuracy: 0.8812\n",
      "Epoch 90/100\n",
      "469/469 [==============================] - 3s 6ms/step - loss: 0.3969 - accuracy: 0.8884 - val_loss: 0.4183 - val_accuracy: 0.8799\n",
      "Epoch 91/100\n",
      "469/469 [==============================] - 3s 7ms/step - loss: 0.3937 - accuracy: 0.8887 - val_loss: 0.4309 - val_accuracy: 0.8793\n",
      "Epoch 92/100\n",
      "469/469 [==============================] - 3s 6ms/step - loss: 0.3937 - accuracy: 0.8897 - val_loss: 0.4177 - val_accuracy: 0.8843\n",
      "Epoch 93/100\n",
      "469/469 [==============================] - 3s 6ms/step - loss: 0.3926 - accuracy: 0.8904 - val_loss: 0.4177 - val_accuracy: 0.8832\n",
      "Epoch 94/100\n",
      "469/469 [==============================] - 3s 6ms/step - loss: 0.3975 - accuracy: 0.8877 - val_loss: 0.4294 - val_accuracy: 0.8802\n",
      "Epoch 95/100\n",
      "469/469 [==============================] - 3s 6ms/step - loss: 0.3922 - accuracy: 0.8890 - val_loss: 0.4182 - val_accuracy: 0.8793\n",
      "Epoch 96/100\n",
      "469/469 [==============================] - 3s 6ms/step - loss: 0.3878 - accuracy: 0.8917 - val_loss: 0.4094 - val_accuracy: 0.8818\n",
      "Epoch 97/100\n",
      "469/469 [==============================] - 3s 7ms/step - loss: 0.3952 - accuracy: 0.8877 - val_loss: 0.4266 - val_accuracy: 0.8808\n",
      "Epoch 98/100\n",
      "469/469 [==============================] - 3s 7ms/step - loss: 0.3911 - accuracy: 0.8901 - val_loss: 0.4142 - val_accuracy: 0.8857\n",
      "Epoch 99/100\n",
      "469/469 [==============================] - 3s 6ms/step - loss: 0.3882 - accuracy: 0.8916 - val_loss: 0.4176 - val_accuracy: 0.8858\n",
      "Epoch 100/100\n",
      "469/469 [==============================] - 3s 6ms/step - loss: 0.3897 - accuracy: 0.8905 - val_loss: 0.4248 - val_accuracy: 0.8803\n"
     ]
    },
    {
     "data": {
      "text/plain": [
       "<keras.callbacks.History at 0x1aaa24c0340>"
      ]
     },
     "execution_count": 70,
     "metadata": {},
     "output_type": "execute_result"
    }
   ],
   "source": [
    "model = Sequential([\n",
    "    Dense(784, activation='relu', input_shape=(784,)),\n",
    "    BatchNormalization(),\n",
    "    Dropout(0.5),\n",
    "    Dense(128, activation='relu', kernel_regularizer=regularizers.l2(0.01)),\n",
    "    BatchNormalization(),\n",
    "    Dropout(0.5),\n",
    "    Dense(64, activation='relu', kernel_regularizer=regularizers.l2(0.01)),\n",
    "    BatchNormalization(),\n",
    "    Dropout(0.5),\n",
    "    Dense(10, activation='softmax')\n",
    "])\n",
    "\n",
    "model.compile(optimizer='adam', loss='categorical_crossentropy', metrics=['accuracy'])\n",
    "\n",
    "model.fit(x_train, y_train, epochs=100, batch_size=128,validation_data=(x_test,y_test),workers=-1)"
   ]
  },
  {
   "cell_type": "code",
   "execution_count": 71,
   "id": "da9fe97c",
   "metadata": {},
   "outputs": [
    {
     "name": "stdout",
     "output_type": "stream",
     "text": [
      "Epoch 1/20\n",
      "469/469 [==============================] - 67s 142ms/step - loss: 1.8403 - accuracy: 0.7837 - val_loss: 0.9778 - val_accuracy: 0.8129\n",
      "Epoch 2/20\n",
      "469/469 [==============================] - 66s 141ms/step - loss: 0.5854 - accuracy: 0.8674 - val_loss: 0.4644 - val_accuracy: 0.8877\n",
      "Epoch 3/20\n",
      "469/469 [==============================] - 66s 142ms/step - loss: 0.4837 - accuracy: 0.8822 - val_loss: 0.4477 - val_accuracy: 0.8868\n",
      "Epoch 4/20\n",
      "469/469 [==============================] - 66s 142ms/step - loss: 0.4509 - accuracy: 0.8919 - val_loss: 0.4263 - val_accuracy: 0.8913\n",
      "Epoch 5/20\n",
      "469/469 [==============================] - 67s 142ms/step - loss: 0.4270 - accuracy: 0.8978 - val_loss: 0.4005 - val_accuracy: 0.9006\n",
      "Epoch 6/20\n",
      "469/469 [==============================] - 67s 142ms/step - loss: 0.4154 - accuracy: 0.9021 - val_loss: 0.3921 - val_accuracy: 0.9073\n",
      "Epoch 7/20\n",
      "469/469 [==============================] - 66s 142ms/step - loss: 0.4003 - accuracy: 0.9081 - val_loss: 0.4348 - val_accuracy: 0.8906\n",
      "Epoch 8/20\n",
      "469/469 [==============================] - 66s 141ms/step - loss: 0.3869 - accuracy: 0.9125 - val_loss: 0.4083 - val_accuracy: 0.9049\n",
      "Epoch 9/20\n",
      "469/469 [==============================] - 67s 142ms/step - loss: 0.3794 - accuracy: 0.9165 - val_loss: 0.3960 - val_accuracy: 0.9074\n",
      "Epoch 10/20\n",
      "469/469 [==============================] - 67s 143ms/step - loss: 0.3735 - accuracy: 0.9181 - val_loss: 0.4030 - val_accuracy: 0.9085\n",
      "Epoch 11/20\n",
      "469/469 [==============================] - 67s 144ms/step - loss: 0.3570 - accuracy: 0.9229 - val_loss: 0.4047 - val_accuracy: 0.9077\n",
      "Epoch 12/20\n",
      "469/469 [==============================] - 67s 143ms/step - loss: 0.3564 - accuracy: 0.9251 - val_loss: 0.3910 - val_accuracy: 0.9113\n",
      "Epoch 13/20\n",
      "469/469 [==============================] - 67s 143ms/step - loss: 0.3385 - accuracy: 0.9296 - val_loss: 0.4289 - val_accuracy: 0.8999\n",
      "Epoch 14/20\n",
      "469/469 [==============================] - 67s 143ms/step - loss: 0.3404 - accuracy: 0.9306 - val_loss: 0.4365 - val_accuracy: 0.9056\n",
      "Epoch 15/20\n",
      "469/469 [==============================] - 67s 143ms/step - loss: 0.3286 - accuracy: 0.9340 - val_loss: 0.3954 - val_accuracy: 0.9138\n",
      "Epoch 16/20\n",
      "469/469 [==============================] - 73s 155ms/step - loss: 0.3210 - accuracy: 0.9350 - val_loss: 0.3817 - val_accuracy: 0.9148\n",
      "Epoch 17/20\n",
      "469/469 [==============================] - 73s 156ms/step - loss: 0.3125 - accuracy: 0.9394 - val_loss: 0.4145 - val_accuracy: 0.9116\n",
      "Epoch 18/20\n",
      "469/469 [==============================] - 70s 148ms/step - loss: 0.3129 - accuracy: 0.9400 - val_loss: 0.3963 - val_accuracy: 0.9129\n",
      "Epoch 19/20\n",
      "469/469 [==============================] - 68s 144ms/step - loss: 0.3014 - accuracy: 0.9433 - val_loss: 0.4085 - val_accuracy: 0.9143\n",
      "Epoch 20/20\n",
      "469/469 [==============================] - 67s 144ms/step - loss: 0.3045 - accuracy: 0.9443 - val_loss: 0.4249 - val_accuracy: 0.9087\n"
     ]
    },
    {
     "data": {
      "text/plain": [
       "<keras.callbacks.History at 0x1aaaa242790>"
      ]
     },
     "execution_count": 71,
     "metadata": {},
     "output_type": "execute_result"
    }
   ],
   "source": [
    "\n",
    "model2 = Sequential([\n",
    "    Conv2D(32, (3, 3), activation='relu', padding='same', input_shape=(28, 28, 1)),\n",
    "    BatchNormalization(),\n",
    "    Dropout(0.5),\n",
    "    Flatten(),\n",
    "    Dense(784, activation='relu'),\n",
    "    BatchNormalization(),\n",
    "    Dropout(0.5),\n",
    "    Dense(128, activation='relu', kernel_regularizer='l2'),\n",
    "    BatchNormalization(),\n",
    "    Dropout(0.5),\n",
    "    Dense(64, activation='relu', kernel_regularizer='l2'),\n",
    "    BatchNormalization(),\n",
    "    Dropout(0.5),\n",
    "    Dense(10, activation='softmax')\n",
    "])\n",
    "\n",
    "model2.compile(optimizer='adam', loss='categorical_crossentropy', metrics=['accuracy'])\n",
    "\n",
    "model2.fit(x_train.reshape(60000,28,28,1), y_train, epochs=20,\n",
    "           batch_size=128,validation_data=(x_test.reshape(10000,28,28,1),y_test),workers=-1)"
   ]
  },
  {
   "cell_type": "code",
   "execution_count": 84,
   "id": "43a80bd5",
   "metadata": {},
   "outputs": [
    {
     "data": {
      "image/png": "[encoded data removed]",
      "text/plain": [
       "<Figure size 1440x720 with 1 Axes>"
      ]
     },
     "metadata": {
      "needs_background": "light"
     },
     "output_type": "display_data"
    }
   ],
   "source": [
    "plt.figure(figsize=(20,10))\n",
    "plt.plot(range(1,101),model.history.history['loss'])\n",
    "plt.plot(range(1,101),model.history.history['val_loss'])\n",
    "plt.show()"
   ]
  },
  {
   "cell_type": "code",
   "execution_count": 82,
   "id": "23ef670e",
   "metadata": {},
   "outputs": [
    {
     "data": {
      "image/png": "[encoded data removed]",
      "text/plain": [
       "<Figure size 1440x720 with 1 Axes>"
      ]
     },
     "metadata": {
      "needs_background": "light"
     },
     "output_type": "display_data"
    }
   ],
   "source": [
    "plt.figure(figsize=(20,10))\n",
    "plt.plot(range(1,21),model2.history.history['loss'])\n",
    "plt.plot(range(1,21),model2.history.history['val_loss'])\n",
    "plt.show()"
   ]
  },
  {
   "cell_type": "code",
   "execution_count": 85,
   "id": "29908631",
   "metadata": {},
   "outputs": [],
   "source": [
    "del x_test,x_train,y_test,y_train"
   ]
  },
  {
   "cell_type": "code",
   "execution_count": 2,
   "id": "b65601d7",
   "metadata": {},
   "outputs": [],
   "source": [
    "(xtrain, ytrain), (xtest, ytest) = fashion_mnist.load_data()"
   ]
  },
  {
   "cell_type": "code",
   "execution_count": 100,
   "id": "522c728b",
   "metadata": {},
   "outputs": [],
   "source": [
    "# xtrain = xtrain / 255.0\n",
    "# xtest = xtest / 255.0"
   ]
  },
  {
   "cell_type": "code",
   "execution_count": 3,
   "id": "a1a93c7c",
   "metadata": {},
   "outputs": [],
   "source": [
    "def add_noise(images, noise_factor):\n",
    "    noisy_images = images + noise_factor * np.random.normal(loc=0.0, scale=1.0, size=images.shape)\n",
    "    noisy_images = np.clip(noisy_images, 0.0, 1.0)  # Clip values to the range [0, 1]\n",
    "    return noisy_images"
   ]
  },
  {
   "cell_type": "code",
   "execution_count": 4,
   "id": "af04182a",
   "metadata": {},
   "outputs": [
    {
     "data": {
      "text/plain": [
       "<matplotlib.image.AxesImage at 0x22cd60f96d0>"
      ]
     },
     "execution_count": 4,
     "metadata": {},
     "output_type": "execute_result"
    },
    {
     "data": {
      "image/png": "[encoded data removed]",
      "text/plain": [
       "<Figure size 720x720 with 2 Axes>"
      ]
     },
     "metadata": {
      "needs_background": "light"
     },
     "output_type": "display_data"
    }
   ],
   "source": [
    "fig ,axs = plt.subplots(1,2,figsize=(10,10))\n",
    "\n",
    "axs[0].set_title('noise')\n",
    "axs[0].imshow(add_noise(xtrain[0]/255,noise_factor=0.15),\n",
    "          cmap=plt.cm.binary )\n",
    "\n",
    "axs[1].set_title('orginal')\n",
    "axs[1].imshow(xtrain[0],cmap=plt.cm.binary)"
   ]
  },
  {
   "cell_type": "code",
   "execution_count": 5,
   "id": "6fa08ba2",
   "metadata": {},
   "outputs": [],
   "source": [
    "xTrainNoise = np.array([add_noise(x,noise_factor=0.15) for x in xtrain])\n",
    "xTestNoise = np.array([add_noise(x,noise_factor=0.15) for x in xtest])"
   ]
  },
  {
   "cell_type": "code",
   "execution_count": 12,
   "id": "d26f2f74",
   "metadata": {},
   "outputs": [
    {
     "data": {
      "text/plain": [
       "(60000, 784)"
      ]
     },
     "execution_count": 12,
     "metadata": {},
     "output_type": "execute_result"
    }
   ],
   "source": [
    "xTrainNoise.reshape(60000,784)"
   ]
  },
  {
   "cell_type": "code",
   "execution_count": 23,
   "id": "746e3104",
   "metadata": {},
   "outputs": [
    {
     "name": "stdout",
     "output_type": "stream",
     "text": [
      "Epoch 1/20\n",
      "469/469 [==============================] - 9s 18ms/step - loss: 7322.2231 - accuracy: 0.0176 - val_loss: 5982.1597 - val_accuracy: 0.0136\n",
      "Epoch 2/20\n",
      "469/469 [==============================] - 8s 18ms/step - loss: 5724.5664 - accuracy: 0.0142 - val_loss: 4656.1890 - val_accuracy: 0.0195\n",
      "Epoch 3/20\n",
      "469/469 [==============================] - 9s 19ms/step - loss: 3844.9570 - accuracy: 0.0120 - val_loss: 3097.7837 - val_accuracy: 0.0152\n",
      "Epoch 4/20\n",
      "469/469 [==============================] - 9s 19ms/step - loss: 3097.4414 - accuracy: 0.0115 - val_loss: 2663.1445 - val_accuracy: 0.0196\n",
      "Epoch 5/20\n",
      "469/469 [==============================] - 9s 19ms/step - loss: 2860.6411 - accuracy: 0.0123 - val_loss: 2521.8425 - val_accuracy: 0.0128\n",
      "Epoch 6/20\n",
      "469/469 [==============================] - 9s 19ms/step - loss: 2760.3474 - accuracy: 0.0114 - val_loss: 2451.4788 - val_accuracy: 0.0144\n",
      "Epoch 7/20\n",
      "469/469 [==============================] - 9s 19ms/step - loss: 2691.9917 - accuracy: 0.0120 - val_loss: 2449.0125 - val_accuracy: 0.0188\n",
      "Epoch 8/20\n",
      "469/469 [==============================] - 9s 19ms/step - loss: 2635.3901 - accuracy: 0.0130 - val_loss: 2342.3459 - val_accuracy: 0.0205\n",
      "Epoch 9/20\n",
      "469/469 [==============================] - 9s 19ms/step - loss: 2593.4275 - accuracy: 0.0143 - val_loss: 2314.0432 - val_accuracy: 0.0165\n",
      "Epoch 10/20\n",
      "469/469 [==============================] - 9s 19ms/step - loss: 2548.8774 - accuracy: 0.0140 - val_loss: 2357.2681 - val_accuracy: 0.0200\n",
      "Epoch 11/20\n",
      "469/469 [==============================] - 9s 19ms/step - loss: 2514.5845 - accuracy: 0.0141 - val_loss: 2264.3633 - val_accuracy: 0.0174\n",
      "Epoch 12/20\n",
      "469/469 [==============================] - 9s 20ms/step - loss: 2493.9995 - accuracy: 0.0154 - val_loss: 2246.4019 - val_accuracy: 0.0158\n",
      "Epoch 13/20\n",
      "469/469 [==============================] - 9s 19ms/step - loss: 2465.1787 - accuracy: 0.0153 - val_loss: 2231.2549 - val_accuracy: 0.0205\n",
      "Epoch 14/20\n",
      "469/469 [==============================] - 10s 22ms/step - loss: 2448.6230 - accuracy: 0.0158 - val_loss: 2227.4209 - val_accuracy: 0.0167\n",
      "Epoch 15/20\n",
      "469/469 [==============================] - 10s 22ms/step - loss: 2433.3726 - accuracy: 0.0169 - val_loss: 2158.1243 - val_accuracy: 0.0173\n",
      "Epoch 16/20\n",
      "469/469 [==============================] - 9s 19ms/step - loss: 2419.4558 - accuracy: 0.0168 - val_loss: 2142.8491 - val_accuracy: 0.0172\n",
      "Epoch 17/20\n",
      "469/469 [==============================] - 9s 19ms/step - loss: 2412.5952 - accuracy: 0.0162 - val_loss: 2137.9778 - val_accuracy: 0.0182\n",
      "Epoch 18/20\n",
      "469/469 [==============================] - 9s 20ms/step - loss: 2399.8464 - accuracy: 0.0167 - val_loss: 2149.9175 - val_accuracy: 0.0140\n",
      "Epoch 19/20\n",
      "469/469 [==============================] - 9s 20ms/step - loss: 2385.9258 - accuracy: 0.0167 - val_loss: 2121.7649 - val_accuracy: 0.0184\n",
      "Epoch 20/20\n",
      "469/469 [==============================] - 10s 20ms/step - loss: 2371.5398 - accuracy: 0.0175 - val_loss: 2110.8264 - val_accuracy: 0.0175\n"
     ]
    },
    {
     "data": {
      "text/plain": [
       "<keras.callbacks.History at 0x22d08fe60a0>"
      ]
     },
     "execution_count": 23,
     "metadata": {},
     "output_type": "execute_result"
    }
   ],
   "source": [
    "model = Sequential([\n",
    "    Dense(784, activation='relu', input_shape=(784,)),\n",
    "    BatchNormalization(),\n",
    "    Dropout(0.5),\n",
    "    Dense(128, activation='relu', kernel_regularizer=regularizers.l2(0.01)),\n",
    "    BatchNormalization(),\n",
    "    Dropout(0.5),\n",
    "    Dense(128*2, activation='relu', kernel_regularizer=regularizers.l2(0.01)),\n",
    "    BatchNormalization(),\n",
    "    Dropout(0.5),\n",
    "    Dense(128*4, activation='relu', kernel_regularizer=regularizers.l2(0.01)),\n",
    "    BatchNormalization(),\n",
    "    Dropout(0.5),\n",
    "    Dense(128*8, activation='relu', kernel_regularizer=regularizers.l2(0.01)),\n",
    "    BatchNormalization(),\n",
    "    Dropout(0.5),\n",
    "    Dense(784, activation='relu')\n",
    "])\n",
    "\n",
    "model.compile(optimizer='adam', loss='mse', metrics=['accuracy'])\n",
    "\n",
    "model.fit(xTrainNoise.reshape(60000,784), xtrain.reshape(60000,784),\n",
    "           epochs=20,batch_size=128,\n",
    "           validation_data=(xTestNoise.reshape(10000,784) , xtest.reshape(10000,784)),workers=-1)"
   ]
  },
  {
   "cell_type": "code",
   "execution_count": 37,
   "id": "07c4fc24",
   "metadata": {},
   "outputs": [
    {
     "name": "stdout",
     "output_type": "stream",
     "text": [
      "313/313 [==============================] - 1s 3ms/step\n"
     ]
    }
   ],
   "source": [
    "predicts = model.predict(xTestNoise.reshape(10000,784))"
   ]
  },
  {
   "cell_type": "code",
   "execution_count": 52,
   "id": "842127c0",
   "metadata": {},
   "outputs": [
    {
     "data": {
      "text/plain": [
       "<matplotlib.image.AxesImage at 0x22cfbe11b50>"
      ]
     },
     "execution_count": 52,
     "metadata": {},
     "output_type": "execute_result"
    },
    {
     "data": {
      "image/png": "[encoded data removed]",
      "text/plain": [
       "<Figure size 1440x720 with 3 Axes>"
      ]
     },
     "metadata": {
      "needs_background": "light"
     },
     "output_type": "display_data"
    }
   ],
   "source": [
    "fig ,axs = plt.subplots(1,3,figsize=(20,10))\n",
    "\n",
    "axs[0].set_title('noise')\n",
    "axs[0].imshow(xTestNoise.reshape(10000,28,28)[2],cmap=plt.cm.binary)\n",
    "\n",
    "axs[1].set_title('orginal')\n",
    "axs[1].imshow(xtest.reshape(10000,28,28)[2],cmap=plt.cm.binary)\n",
    "\n",
    "axs[2].set_title('ai denoised')\n",
    "axs[2].imshow(predicts[2].reshape(28,28),cmap=plt.cm.binary)\n"
   ]
  }
 ],
 "metadata": {
  "kernelspec": {
   "display_name": "Python 3 (ipykernel)",
   "language": "python",
   "name": "python3"
  },
  "language_info": {
   "codemirror_mode": {
    "name": "ipython",
    "version": 3
   },
   "file_extension": ".py",
   "mimetype": "text/x-python",
   "name": "python",
   "nbconvert_exporter": "python",
   "pygments_lexer": "ipython3",
   "version": "3.9.12"
  }
 },
 "nbformat": 4,
 "nbformat_minor": 5
}
